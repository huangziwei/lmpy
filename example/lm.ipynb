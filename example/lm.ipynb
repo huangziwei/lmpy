{
 "cells": [
  {
   "cell_type": "code",
   "execution_count": 1,
   "id": "d7c096a6-5149-406b-be7b-9aebb339fcbe",
   "metadata": {},
   "outputs": [],
   "source": [
    "from lmpy import lm, data, AIC, anova"
   ]
  },
  {
   "cell_type": "markdown",
   "id": "c9a6ae0e-abc7-4664-808d-9566af9ecb77",
   "metadata": {},
   "source": [
    "## Examples from *Linear Models with R* (Faraway, 2014)"
   ]
  },
  {
   "cell_type": "markdown",
   "id": "9fb50f8f-9489-4030-8eda-77a94b3c750f",
   "metadata": {},
   "source": [
    "### 2.6"
   ]
  },
  {
   "cell_type": "code",
   "execution_count": 2,
   "id": "97f8b39e-a3de-4df0-a862-e9460202663f",
   "metadata": {},
   "outputs": [
    {
     "name": "stdout",
     "output_type": "stream",
     "text": [
      "Formula: Species ~ Area + Adjacent + Elevation + Nearest + Scruz\n",
      "\n",
      "Coefficients:\n",
      "           Estimate  Std. Error  CI[2.5%]  CI[97.5]%  t values  Pr(>|t|)     \n",
      "Intercept     7.068      19.154   -32.464     46.601     0.369     0.715     \n",
      "Adjacent     -0.075       0.018    -0.111     -0.038    -4.226     0.000  ***\n",
      "Area         -0.024       0.022    -0.070      0.022    -1.068     0.296     \n",
      "Elevation     0.319       0.054     0.209      0.430     5.953     0.000  ***\n",
      "Nearest       0.009       1.054    -2.166      2.185     0.009     0.993     \n",
      "Scruz        -0.241       0.215    -0.685      0.204    -1.117     0.275     \n",
      "---\n",
      "Signif. codes: 0 '***' 0.001 '**' 0.01 '*' 0.05 '.' 0.1 ' ' 1\n",
      "\n",
      "n = 30, p = 6, Residual SE = 60.975 on 24 DF\n",
      "R-Squared = 0.7658, adjusted R-Squared = 0.7171\n",
      "F-statistics = 15.6994 on 5 and 24 DF, p-value: 6.837893e-07\n",
      "\n",
      "Log Likelihood = -162.5350, AIC = 339.0700, BIC = 348.8784\n"
     ]
    }
   ],
   "source": [
    "gala = data('gala', package='faraway')\n",
    "m0 = lm('Species ~ Area + Adjacent + Elevation + Nearest + Scruz', gala)\n",
    "m0.summary()"
   ]
  },
  {
   "cell_type": "markdown",
   "id": "be63ac9a-df00-4cca-858f-e58484c8df5f",
   "metadata": {},
   "source": [
    "### 2.10"
   ]
  },
  {
   "cell_type": "code",
   "execution_count": 3,
   "id": "da04f530-b5ce-44d8-a04d-889175ad2a7d",
   "metadata": {},
   "outputs": [
    {
     "name": "stdout",
     "output_type": "stream",
     "text": [
      "Formula: odor ~ temp + gas + pack\n",
      "\n",
      "Coefficients:\n",
      "           Estimate  Std. Error  CI[2.5%]  CI[97.5]%  t values  Pr(>|t|)   \n",
      "Intercept    15.200       9.298    -5.265     35.665     1.635     0.130   \n",
      "gas         -17.000      12.732   -45.023     11.023    -1.335     0.209   \n",
      "pack        -21.375      12.732   -49.398      6.648    -1.679     0.121   \n",
      "temp        -12.125      12.732   -40.148     15.898    -0.952     0.361   \n",
      "---\n",
      "Signif. codes: 0 '***' 0.001 '**' 0.01 '*' 0.05 '.' 0.1 ' ' 1\n",
      "\n",
      "n = 15, p = 4, Residual SE = 36.012 on 11 DF\n",
      "R-Squared = 0.3337, adjusted R-Squared = 0.1519\n",
      "F-statistics = 1.8361 on 3 and 11 DF, p-value: 0.20\n",
      "\n",
      "Log Likelihood = -72.7155, AIC = 155.4310, BIC = 158.9713\n",
      "\n",
      "Correlation of Coefficients:\n",
      "      gas  pack  temp\n",
      "gas  1.00  0.00  0.00\n",
      "pack 0.00  1.00 -0.00\n",
      "temp 0.00 -0.00  1.00\n"
     ]
    }
   ],
   "source": [
    "odor = data('odor', package='faraway')\n",
    "m1 = lm('odor ~ temp + gas + pack', odor)\n",
    "m1.summary(cor=True)"
   ]
  },
  {
   "cell_type": "markdown",
   "id": "712b5f62-c1df-4cda-9554-e76b8bdab261",
   "metadata": {},
   "source": [
    "### 3.2"
   ]
  },
  {
   "cell_type": "code",
   "execution_count": 4,
   "id": "4ce550a1-3f16-459d-8858-a1ad542ae20b",
   "metadata": {},
   "outputs": [
    {
     "name": "stdout",
     "output_type": "stream",
     "text": [
      "Analysis of Variance Table\n",
      "\n",
      "model 0: Species ~ 1\n",
      "model 1: Species ~ Area + Adjacent + Elevation + Nearest + Scruz\n",
      "\n",
      "   Res.Df        RSS Df   Sum of Sq       F Pr(>F)     \n",
      "0      29 381081.367                                   \n",
      "1      24  89231.366  5  291850.000  15.699  0.000  ***\n",
      "---\n",
      "Signif. codes: 0 '***' 0.001 '**' 0.01 '*' 0.05 '.' 0.1 ' ' 1\n"
     ]
    }
   ],
   "source": [
    "nullm = lm('Species ~ 1', gala)\n",
    "anova(nullm, m0)"
   ]
  },
  {
   "cell_type": "code",
   "execution_count": 5,
   "id": "68e5cf9b-bd38-470b-9eb1-4ff56964f1e4",
   "metadata": {},
   "outputs": [
    {
     "name": "stdout",
     "output_type": "stream",
     "text": [
      "Analysis of Variance Table\n",
      "\n",
      "model 0: Species ~ Adjacent + Elevation + Nearest + Scruz\n",
      "model 1: Species ~ Area + Adjacent + Elevation + Nearest + Scruz\n",
      "\n",
      "   Res.Df       RSS Df   Sum of Sq      F Pr(>F)   \n",
      "0      25 93469.084                                \n",
      "1      24 89231.366  1  291850.000  1.140  0.296   \n",
      "---\n",
      "Signif. codes: 0 '***' 0.001 '**' 0.01 '*' 0.05 '.' 0.1 ' ' 1\n"
     ]
    }
   ],
   "source": [
    "m2 = lm('Species ~ Adjacent + Elevation + Nearest + Scruz', gala)\n",
    "anova(m2, m0)"
   ]
  },
  {
   "cell_type": "code",
   "execution_count": 6,
   "id": "bba04a40-39d6-4771-a7cf-abe0b1a2b8b6",
   "metadata": {},
   "outputs": [
    {
     "name": "stdout",
     "output_type": "stream",
     "text": [
      "Analysis of Variance Table\n",
      "\n",
      "model 0: Species ~ Elevation + Nearest + Scruz\n",
      "model 1: Species ~ Area + Adjacent + Elevation + Nearest + Scruz\n",
      "\n",
      "   Res.Df        RSS Df   Sum of Sq      F Pr(>F)    \n",
      "0      26 158291.629                                 \n",
      "1      24  89231.366  2  291850.000  9.287  0.001  **\n",
      "---\n",
      "Signif. codes: 0 '***' 0.001 '**' 0.01 '*' 0.05 '.' 0.1 ' ' 1\n"
     ]
    }
   ],
   "source": [
    "m3 = lm('Species ~ Elevation + Nearest + Scruz', gala)\n",
    "anova(m3, m0)"
   ]
  },
  {
   "cell_type": "code",
   "execution_count": 7,
   "id": "8008e77d-44c1-4665-a70a-154abf87eb10",
   "metadata": {},
   "outputs": [
    {
     "name": "stdout",
     "output_type": "stream",
     "text": [
      "Analysis of Variance Table\n",
      "\n",
      "model 0: Species ~ I(Area+Adjacent)+ Elevation + Nearest + Scruz\n",
      "model 1: Species ~ Area + Adjacent + Elevation + Nearest + Scruz\n",
      "\n",
      "   Res.Df        RSS Df   Sum of Sq      F Pr(>F)   \n",
      "0      25 109591.121                                \n",
      "1      24  89231.366  1  291850.000  5.476  0.028  *\n",
      "---\n",
      "Signif. codes: 0 '***' 0.001 '**' 0.01 '*' 0.05 '.' 0.1 ' ' 1\n"
     ]
    }
   ],
   "source": [
    "m4 = lm('Species ~ I(Area+Adjacent)+ Elevation + Nearest + Scruz', gala)\n",
    "anova(m4, m0)"
   ]
  },
  {
   "cell_type": "markdown",
   "id": "d74c6c0d-af33-4ff2-a3af-05e0a34a838b",
   "metadata": {},
   "source": [
    "### 4.2"
   ]
  },
  {
   "cell_type": "code",
   "execution_count": 8,
   "id": "aa3a3f57-1dd7-4de4-ac62-d58eeda19ffa",
   "metadata": {},
   "outputs": [
    {
     "name": "stdout",
     "output_type": "stream",
     "text": [
      "Formula: brozek ~ age + weight + height + neck + chest + abdom + hip + thigh + knee + ankle + biceps + forearm + wrist\n",
      "\n",
      "Coefficients:\n",
      "           Estimate  Std. Error  CI[2.5%]  CI[97.5]%  t values  Pr(>|t|)     \n",
      "Intercept   -15.293      16.070   -46.950     16.365    -0.952     0.342     \n",
      "abdom         0.885       0.080     0.728      1.043    11.057     0.000  ***\n",
      "age           0.057       0.030    -0.002      0.116     1.895     0.059    .\n",
      "ankle         0.164       0.205    -0.241      0.568     0.797     0.426     \n",
      "biceps        0.153       0.159    -0.159      0.465     0.964     0.336     \n",
      "chest        -0.024       0.092    -0.205      0.157    -0.257     0.797     \n",
      "forearm       0.430       0.184     0.067      0.794     2.334     0.020    *\n",
      "height       -0.065       0.089    -0.240      0.111    -0.726     0.468     \n",
      "hip          -0.198       0.135    -0.465      0.068    -1.468     0.143     \n",
      "knee         -0.012       0.224    -0.453      0.430    -0.052     0.958     \n",
      "neck         -0.438       0.215    -0.862     -0.013    -2.032     0.043    *\n",
      "thigh         0.232       0.134    -0.032      0.495     1.734     0.084    .\n",
      "weight       -0.080       0.050    -0.178      0.017    -1.620     0.107     \n",
      "wrist        -1.477       0.496    -2.453     -0.500    -2.980     0.003   **\n",
      "---\n",
      "Signif. codes: 0 '***' 0.001 '**' 0.01 '*' 0.05 '.' 0.1 ' ' 1\n",
      "\n",
      "n = 252, p = 14, Residual SE = 3.988 on 238 DF\n",
      "R-Squared = 0.7490, adjusted R-Squared = 0.7353\n",
      "F-statistics = 54.6255 on 13 and 238 DF, p-value: 7.980828e-64\n",
      "\n",
      "Log Likelihood = -698.9579, AIC = 1427.9158, BIC = 1480.8573\n"
     ]
    }
   ],
   "source": [
    "fat = data('fat', 'faraway')\n",
    "formula = 'brozek ~ age + weight + height + neck + chest + abdom + hip + thigh + knee + ankle + biceps + forearm + wrist'\n",
    "m5 = lm(formula, data=fat)\n",
    "m5.summary()"
   ]
  },
  {
   "cell_type": "code",
   "execution_count": 9,
   "id": "1cae24a2-66e9-46cd-995c-7373eb61ce94",
   "metadata": {},
   "outputs": [
    {
     "data": {
      "text/html": [
       "<div>\n",
       "<style scoped>\n",
       "    .dataframe tbody tr th:only-of-type {\n",
       "        vertical-align: middle;\n",
       "    }\n",
       "\n",
       "    .dataframe tbody tr th {\n",
       "        vertical-align: top;\n",
       "    }\n",
       "\n",
       "    .dataframe thead th {\n",
       "        text-align: right;\n",
       "    }\n",
       "</style>\n",
       "<table border=\"1\" class=\"dataframe\">\n",
       "  <thead>\n",
       "    <tr style=\"text-align: right;\">\n",
       "      <th></th>\n",
       "      <th>Fitted</th>\n",
       "      <th>PI[2.5%]</th>\n",
       "      <th>PI[97.5]%</th>\n",
       "    </tr>\n",
       "  </thead>\n",
       "  <tbody>\n",
       "    <tr>\n",
       "      <th>0</th>\n",
       "      <td>17.49322</td>\n",
       "      <td>9.337654</td>\n",
       "      <td>25.648786</td>\n",
       "    </tr>\n",
       "  </tbody>\n",
       "</table>\n",
       "</div>"
      ],
      "text/plain": [
       "     Fitted  PI[2.5%]  PI[97.5]%\n",
       "0  17.49322  9.337654  25.648786"
      ]
     },
     "execution_count": 9,
     "metadata": {},
     "output_type": "execute_result"
    }
   ],
   "source": [
    "x0 = m5.X.median().to_frame()\n",
    "m5.predict(new=x0.T, interval='prediction')"
   ]
  },
  {
   "cell_type": "code",
   "execution_count": 10,
   "id": "ee3aa069-9380-4e7a-82c3-f5de504de17d",
   "metadata": {},
   "outputs": [
    {
     "data": {
      "text/html": [
       "<div>\n",
       "<style scoped>\n",
       "    .dataframe tbody tr th:only-of-type {\n",
       "        vertical-align: middle;\n",
       "    }\n",
       "\n",
       "    .dataframe tbody tr th {\n",
       "        vertical-align: top;\n",
       "    }\n",
       "\n",
       "    .dataframe thead th {\n",
       "        text-align: right;\n",
       "    }\n",
       "</style>\n",
       "<table border=\"1\" class=\"dataframe\">\n",
       "  <thead>\n",
       "    <tr style=\"text-align: right;\">\n",
       "      <th></th>\n",
       "      <th>Fitted</th>\n",
       "      <th>CI[2.5%]</th>\n",
       "      <th>CI[97.5]%</th>\n",
       "    </tr>\n",
       "  </thead>\n",
       "  <tbody>\n",
       "    <tr>\n",
       "      <th>0</th>\n",
       "      <td>17.49322</td>\n",
       "      <td>15.303962</td>\n",
       "      <td>19.682478</td>\n",
       "    </tr>\n",
       "  </tbody>\n",
       "</table>\n",
       "</div>"
      ],
      "text/plain": [
       "     Fitted   CI[2.5%]  CI[97.5]%\n",
       "0  17.49322  15.303962  19.682478"
      ]
     },
     "execution_count": 10,
     "metadata": {},
     "output_type": "execute_result"
    }
   ],
   "source": [
    "x0 = m5.X.median().to_frame()\n",
    "m5.predict(new=x0.T, interval='confidence')"
   ]
  },
  {
   "cell_type": "markdown",
   "id": "918d8d3f-8e5e-4382-b462-6360516c7954",
   "metadata": {},
   "source": [
    "## Examples from *Generalized Additive Models* (Wood, 2017)"
   ]
  },
  {
   "cell_type": "markdown",
   "id": "c876b125-e93b-4812-a7d6-43c3b2d3bd03",
   "metadata": {},
   "source": [
    "### 1.5.1-1.5.3"
   ]
  },
  {
   "cell_type": "code",
   "execution_count": 11,
   "id": "a8c23633-fc30-4db1-851d-e5c5f4177d52",
   "metadata": {},
   "outputs": [],
   "source": [
    "sperm1 = data('sperm.comp1', 'gamair')"
   ]
  },
  {
   "cell_type": "code",
   "execution_count": 12,
   "id": "3133f4f4-5df1-4f70-a82d-9aafe7fd3b2d",
   "metadata": {},
   "outputs": [
    {
     "name": "stdout",
     "output_type": "stream",
     "text": [
      "Formula: count ~ time.ipc + prop.partner\n",
      "\n",
      "Coefficients:\n",
      "              Estimate  Std. Error  CI[2.5%]  CI[97.5]%  t values  Pr(>|t|)    \n",
      "Intercept      357.418      88.082   165.504    549.333     4.058     0.002  **\n",
      "prop.partner  -339.560     126.253  -614.643    -64.478    -2.690     0.020   *\n",
      "time.ipc         1.942       0.907    -0.034      3.917     2.141     0.053   .\n",
      "---\n",
      "Signif. codes: 0 '***' 0.001 '**' 0.01 '*' 0.05 '.' 0.1 ' ' 1\n",
      "\n",
      "n = 15, p = 3, Residual SE = 136.609 on 12 DF\n",
      "R-Squared = 0.4573, adjusted R-Squared = 0.3669\n",
      "F-statistics = 5.0562 on 2 and 12 DF, p-value: 0.03\n",
      "\n",
      "Log Likelihood = -93.3673, AIC = 194.7346, BIC = 197.5668\n"
     ]
    }
   ],
   "source": [
    "scmod1 = lm('count ~ time.ipc + prop.partner', sperm1)\n",
    "scmod1.summary()"
   ]
  },
  {
   "cell_type": "code",
   "execution_count": 13,
   "id": "9c280c3a-78ed-47eb-baa9-f52fd2742bc7",
   "metadata": {},
   "outputs": [
    {
     "name": "stdout",
     "output_type": "stream",
     "text": [
      "Formula: count ~ time.ipc + {prop.partner*time.ipc}\n",
      "\n",
      "Coefficients:\n",
      "                       Estimate  Std. Error  CI[2.5%]  CI[97.5]%  t values  Pr(>|t|)    \n",
      "Intercept               140.470      64.063     0.889    280.051     2.193     0.049   *\n",
      "prop.partner*time.ipc    -5.478       1.741    -9.271     -1.685    -3.146     0.008  **\n",
      "time.ipc                  5.618       1.549     2.242      8.994     3.626     0.003  **\n",
      "---\n",
      "Signif. codes: 0 '***' 0.001 '**' 0.01 '*' 0.05 '.' 0.1 ' ' 1\n",
      "\n",
      "n = 15, p = 3, Residual SE = 128.023 on 12 DF\n",
      "R-Squared = 0.5234, adjusted R-Squared = 0.4440\n",
      "F-statistics = 6.5888 on 2 and 12 DF, p-value: 0.01\n",
      "\n",
      "Log Likelihood = -92.3937, AIC = 192.7874, BIC = 195.6196\n"
     ]
    }
   ],
   "source": [
    "scmod2 = lm('count ~ time.ipc + {prop.partner*time.ipc}', sperm1)\n",
    "scmod2.summary()"
   ]
  },
  {
   "cell_type": "code",
   "execution_count": 14,
   "id": "e08c93c5-2ee5-42ff-afb9-a80218afe3b7",
   "metadata": {},
   "outputs": [],
   "source": [
    "scmod3 = lm('count ~ prop.partner', sperm1)\n",
    "scmod4 = lm('count ~ 1', sperm1)"
   ]
  },
  {
   "cell_type": "code",
   "execution_count": 15,
   "id": "08abe045-45c2-45f6-b8af-e2b379f77327",
   "metadata": {},
   "outputs": [
    {
     "name": "stdout",
     "output_type": "stream",
     "text": [
      "                                 df    AIC\n",
      "formula                                   \n",
      "count ~ time.ipc + prop.partner   4 194.73\n",
      "count ~ prop.partner              3 197.59\n",
      "count ~ 1                         2 199.90\n"
     ]
    }
   ],
   "source": [
    "AIC(scmod1, scmod3, scmod4)"
   ]
  },
  {
   "cell_type": "markdown",
   "id": "ee71f7d0-9959-4717-84ac-9aa0b1cb6ed9",
   "metadata": {},
   "source": [
    "### 1.6.4"
   ]
  },
  {
   "cell_type": "code",
   "execution_count": 16,
   "id": "7b81f8cf-d50d-474a-9485-552078f68389",
   "metadata": {},
   "outputs": [
    {
     "name": "stdout",
     "output_type": "stream",
     "text": [
      "Formula: weight ~ group\n",
      "\n",
      "Coefficients:\n",
      "               Estimate  Std. Error  CI[2.5%]  CI[97.5]%  t values  Pr(>|t|)     \n",
      "Intercept         5.032       0.197     4.628      5.436    25.527     0.000  ***\n",
      "group[T.trt1]    -0.371       0.279    -0.943      0.201    -1.331     0.194     \n",
      "group[T.trt2]     0.494       0.279    -0.078      1.066     1.772     0.088    .\n",
      "---\n",
      "Signif. codes: 0 '***' 0.001 '**' 0.01 '*' 0.05 '.' 0.1 ' ' 1\n",
      "\n",
      "n = 30, p = 3, Residual SE = 0.623 on 27 DF\n",
      "R-Squared = 0.2641, adjusted R-Squared = 0.2096\n",
      "F-statistics = 4.8461 on 2 and 27 DF, p-value: 0.02\n",
      "\n",
      "Log Likelihood = -26.8095, AIC = 61.6190, BIC = 67.2238\n"
     ]
    }
   ],
   "source": [
    "PlantGrowth = data('PlantGrowth')\n",
    "pgm1 = lm('weight ~ group', data=PlantGrowth)\n",
    "pgm1.summary()"
   ]
  },
  {
   "cell_type": "code",
   "execution_count": 17,
   "id": "f6948927-a272-45b5-a6ab-c819576aac6b",
   "metadata": {},
   "outputs": [
    {
     "name": "stdout",
     "output_type": "stream",
     "text": [
      "Formula: weight ~ 1\n",
      "\n",
      "Coefficients:\n",
      "           Estimate  Std. Error  CI[2.5%]  CI[97.5]%  t values  Pr(>|t|)     \n",
      "Intercept     5.073       0.128     4.811      5.335    39.627       0.0  ***\n",
      "---\n",
      "Signif. codes: 0 '***' 0.001 '**' 0.01 '*' 0.05 '.' 0.1 ' ' 1\n",
      "\n",
      "n = 30, p = 1, Residual SE = 0.701 on 29 DF\n",
      "R-Squared = 0.0000, adjusted R-Squared = 0.0000\n",
      "Log Likelihood = -31.4104, AIC = 66.8208, BIC = 69.6232\n"
     ]
    }
   ],
   "source": [
    "pgm0 = lm('weight ~ 1', PlantGrowth)\n",
    "pgm0.summary()"
   ]
  },
  {
   "cell_type": "code",
   "execution_count": 18,
   "id": "1da694e0-af41-4fed-867b-d03c578eac96",
   "metadata": {},
   "outputs": [
    {
     "name": "stdout",
     "output_type": "stream",
     "text": [
      "Analysis of Variance Table\n",
      "\n",
      "model 0: weight ~ 1\n",
      "model 1: weight ~ group\n",
      "\n",
      "   Res.Df    RSS Df Sum of Sq      F Pr(>F)   \n",
      "0      29 14.258                              \n",
      "1      27 10.492  2     3.766  4.846  0.016  *\n",
      "---\n",
      "Signif. codes: 0 '***' 0.001 '**' 0.01 '*' 0.05 '.' 0.1 ' ' 1\n"
     ]
    }
   ],
   "source": [
    "anova(pgm0, pgm1)"
   ]
  },
  {
   "cell_type": "markdown",
   "id": "90851384-9393-472d-8ec0-85ef6405236b",
   "metadata": {},
   "source": [
    "## Examples from Data Analysis Using Regression and Multilevel/Hierarchical Models (Gelman, Hill, 2007)"
   ]
  },
  {
   "cell_type": "markdown",
   "id": "42df7c9d-362b-4b1b-92e8-e9aa402a5612",
   "metadata": {},
   "source": [
    "### 3.4"
   ]
  },
  {
   "cell_type": "code",
   "execution_count": 19,
   "id": "2ba41899-de01-4b7b-b398-6372fa7f36c8",
   "metadata": {},
   "outputs": [],
   "source": [
    "kidiq = data('kidiq', 'rstanarm')"
   ]
  },
  {
   "cell_type": "code",
   "execution_count": 20,
   "id": "f223680c-6a36-4954-b144-7b2abab73df1",
   "metadata": {},
   "outputs": [
    {
     "name": "stdout",
     "output_type": "stream",
     "text": [
      "Formula: kid.score ~ mom.hs + mom.iq\n",
      "\n",
      "Coefficients:\n",
      "           Estimate  Std. Error  CI[2.5%]  CI[97.5]%  t values  Pr(>|t|)     \n",
      "Intercept    25.732       5.875    14.184     37.279     4.380     0.000  ***\n",
      "mom.hs        5.950       2.212     1.603     10.297     2.690     0.007   **\n",
      "mom.iq        0.564       0.061     0.445      0.683     9.309     0.000  ***\n",
      "---\n",
      "Signif. codes: 0 '***' 0.001 '**' 0.01 '*' 0.05 '.' 0.1 ' ' 1\n",
      "\n",
      "n = 434, p = 3, Residual SE = 18.136 on 431 DF\n",
      "R-Squared = 0.2141, adjusted R-Squared = 0.2105\n",
      "F-statistics = 58.7241 on 2 and 431 DF, p-value: 2.793258e-23\n",
      "\n",
      "Log Likelihood = -1871.9945, AIC = 3751.9890, BIC = 3768.2812\n"
     ]
    }
   ],
   "source": [
    "m1 = lm('kid.score ~ mom.hs + mom.iq', kidiq)\n",
    "m1.summary()"
   ]
  },
  {
   "cell_type": "markdown",
   "id": "6d5ddd5c-59a8-4eda-bac5-4be7e6271003",
   "metadata": {},
   "source": [
    "### 3.5"
   ]
  },
  {
   "cell_type": "code",
   "execution_count": 21,
   "id": "50eaecb0-e599-480b-8f58-ee8e2459480e",
   "metadata": {},
   "outputs": [
    {
     "name": "stdout",
     "output_type": "stream",
     "text": [
      "Formula: kid.score ~ mom.iq\n",
      "\n",
      "Coefficients:\n",
      "           Estimate  Std. Error  CI[2.5%]  CI[97.5]%  t values  Pr(>|t|)     \n",
      "Intercept     25.80       5.917    14.169     37.430     4.360       0.0  ***\n",
      "mom.iq         0.61       0.059     0.495      0.725    10.423       0.0  ***\n",
      "---\n",
      "Signif. codes: 0 '***' 0.001 '**' 0.01 '*' 0.05 '.' 0.1 ' ' 1\n",
      "\n",
      "n = 434, p = 2, Residual SE = 18.266 on 432 DF\n",
      "R-Squared = 0.2010, adjusted R-Squared = 0.1991\n",
      "F-statistics = 108.6428 on 1 and 432 DF, p-value: 7.661950e-23\n",
      "\n",
      "Log Likelihood = -1875.6079, AIC = 3757.2158, BIC = 3769.4349\n"
     ]
    }
   ],
   "source": [
    "m2 = lm('kid.score ~ mom.iq', kidiq)\n",
    "m2.summary()"
   ]
  },
  {
   "cell_type": "code",
   "execution_count": 22,
   "id": "f36d68f1-abfe-4448-9dc2-aebffac1e2d0",
   "metadata": {},
   "outputs": [
    {
     "name": "stdout",
     "output_type": "stream",
     "text": [
      "Formula: kid.score ~ mom.hs + mom.iq + mom.hs:mom.iq\n",
      "\n",
      "Coefficients:\n",
      "               Estimate  Std. Error  CI[2.5%]  CI[97.5]%  t values  Pr(>|t|)     \n",
      "Intercept       -11.482      13.758   -38.523     15.559    -0.835     0.404     \n",
      "mom.hs           51.268      15.338    21.122     81.414     3.343     0.001  ***\n",
      "mom.iq            0.969       0.148     0.677      1.260     6.531     0.000  ***\n",
      "mom.hs:mom.iq    -0.484       0.162    -0.803     -0.165    -2.985     0.003   **\n",
      "---\n",
      "Signif. codes: 0 '***' 0.001 '**' 0.01 '*' 0.05 '.' 0.1 ' ' 1\n",
      "\n",
      "n = 434, p = 4, Residual SE = 17.971 on 430 DF\n",
      "R-Squared = 0.2301, adjusted R-Squared = 0.2247\n",
      "F-statistics = 42.8389 on 3 and 430 DF, p-value: 3.066596e-24\n",
      "\n",
      "Log Likelihood = -1867.5429, AIC = 3745.0857, BIC = 3765.4510\n"
     ]
    }
   ],
   "source": [
    "m3 = lm('kid.score ~ mom.hs + mom.iq + mom.hs:mom.iq', kidiq)\n",
    "m3.summary()"
   ]
  },
  {
   "cell_type": "markdown",
   "id": "f8016f6c-c972-41dc-b510-263e17735dae",
   "metadata": {},
   "source": [
    "## Example from *Visreg* (Breheny, Burchett, 2017)"
   ]
  },
  {
   "cell_type": "code",
   "execution_count": 23,
   "id": "d3a16f3b-5f26-4f00-a2ba-e456170e0e99",
   "metadata": {},
   "outputs": [],
   "source": [
    "airquality = data('airquality', 'R')\n",
    "# import pandas as pd\n",
    "# airquality = pd.read_csv('./data/R/airquality.csv')"
   ]
  },
  {
   "cell_type": "code",
   "execution_count": 24,
   "id": "9cb9a4cf-95c2-4f97-8aca-7230f53ec82a",
   "metadata": {},
   "outputs": [
    {
     "name": "stdout",
     "output_type": "stream",
     "text": [
      "Formula: Ozone ~ Solar.R + Wind + Temp\n",
      "\n",
      "Coefficients:\n",
      "           Estimate  Std. Error  CI[2.5%]  CI[97.5]%  t values  Pr(>|t|)     \n",
      "Intercept   -64.342      23.055  -110.045    -18.639    -2.791     0.006   **\n",
      "Solar.R       0.060       0.023     0.014      0.106     2.580     0.011    *\n",
      "Temp          1.652       0.254     1.149      2.155     6.516     0.000  ***\n",
      "Wind         -3.334       0.654    -4.631     -2.036    -5.094     0.000  ***\n",
      "---\n",
      "Signif. codes: 0 '***' 0.001 '**' 0.01 '*' 0.05 '.' 0.1 ' ' 1\n",
      "\n",
      "n = 111, p = 4, Residual SE = 21.181 on 107 DF\n",
      "R-Squared = 0.6059, adjusted R-Squared = 0.5948\n",
      "F-statistics = 54.8337 on 3 and 107 DF, p-value: 1.508994e-21\n",
      "\n",
      "Log Likelihood = -494.3586, AIC = 998.7171, BIC = 1012.2648\n"
     ]
    }
   ],
   "source": [
    "fit = lm('Ozone ~ Solar.R + Wind + Temp', data=airquality)\n",
    "fit.summary()"
   ]
  },
  {
   "cell_type": "code",
   "execution_count": 25,
   "id": "3bdc7560-0fdc-497b-9b6e-f86aaad2f97d",
   "metadata": {},
   "outputs": [
    {
     "data": {
      "image/png": "[encoded data removed]",
      "text/plain": [
       "<Figure size 864x216 with 3 Axes>"
      ]
     },
     "metadata": {
      "needs_background": "light"
     },
     "output_type": "display_data"
    }
   ],
   "source": [
    "fit.plot_conditional()"
   ]
  },
  {
   "cell_type": "code",
   "execution_count": 26,
   "id": "f57ba2f0-43e5-4212-a42c-b4553b53769b",
   "metadata": {},
   "outputs": [
    {
     "data": {
      "text/plain": [
       "<matplotlib.lines.Line2D at 0x140165fc0>"
      ]
     },
     "execution_count": 26,
     "metadata": {},
     "output_type": "execute_result"
    },
    {
     "data": {
      "image/png": "[encoded data removed]",
      "text/plain": [
       "<Figure size 288x216 with 1 Axes>"
      ]
     },
     "metadata": {
      "needs_background": "light"
     },
     "output_type": "display_data"
    }
   ],
   "source": [
    "import matplotlib.pyplot as plt\n",
    "\n",
    "fit.plot_conditional('Solar.R')\n",
    "plt.axhline(44.5, color='red', ls='--')"
   ]
  }
 ],
 "metadata": {
  "kernelspec": {
   "display_name": "Python 3 (ipykernel)",
   "language": "python",
   "name": "python3"
  },
  "language_info": {
   "codemirror_mode": {
    "name": "ipython",
    "version": 3
   },
   "file_extension": ".py",
   "mimetype": "text/x-python",
   "name": "python",
   "nbconvert_exporter": "python",
   "pygments_lexer": "ipython3",
   "version": "3.10.2"
  }
 },
 "nbformat": 4,
 "nbformat_minor": 5
}
